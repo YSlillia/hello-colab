{
  "nbformat": 4,
  "nbformat_minor": 0,
  "metadata": {
    "colab": {
      "provenance": [],
      "authorship_tag": "ABX9TyPKHBNIhmnmQ4a6F7GEFkwK",
      "include_colab_link": true
    },
    "kernelspec": {
      "name": "python3",
      "display_name": "Python 3"
    },
    "language_info": {
      "name": "python"
    }
  },
  "cells": [
    {
      "cell_type": "markdown",
      "metadata": {
        "id": "view-in-github",
        "colab_type": "text"
      },
      "source": [
        "<a href=\"https://colab.research.google.com/github/YSlillia/hello-colab/blob/main/pharmacymask.ipynb\" target=\"_parent\"><img src=\"https://colab.research.google.com/assets/colab-badge.svg\" alt=\"Open In Colab\"/></a>"
      ]
    },
    {
      "cell_type": "markdown",
      "source": [
        "口罩地圖 API 網址：https://raw.githubusercontent.com/kiang/pharmacies/master/json/points.json"
      ],
      "metadata": {
        "id": "BshnpKIPBSXl"
      }
    },
    {
      "cell_type": "markdown",
      "source": [
        "資料提供了詳細的藥局資料，包含藥局名稱、地址、電話、營業時間等相關基本訊息，以及各藥局的note和成人和孩童的口罩數量，還有藥局所在的經緯度資訊。\n",
        "應用：藥局口罩庫存查詢、補充庫存提醒、庫存地圖視覺化、預測口罩需求"
      ],
      "metadata": {
        "id": "YKvHVSr_BZoh"
      }
    },
    {
      "cell_type": "code",
      "execution_count": null,
      "metadata": {
        "id": "rjpDudMpANdk"
      },
      "outputs": [],
      "source": []
    }
  ]
}